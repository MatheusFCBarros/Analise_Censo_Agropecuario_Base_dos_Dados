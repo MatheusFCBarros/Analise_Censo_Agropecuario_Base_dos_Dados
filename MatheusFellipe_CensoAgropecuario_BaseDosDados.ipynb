{
 "cells": [
  {
   "cell_type": "markdown",
   "metadata": {},
   "source": [
    "# **Análise de Dados**\n",
    "### <font color='red'> *Análise de dados do Censo Agropecuário do Brasil de 1985 - 2017*\n",
    "*by [Matheus Fellipe do Carmo Barros](https://linktr.ee/matheusfcbarros)*\n",
    "\n",
    "---\n"
   ]
  },
  {
   "cell_type": "markdown",
   "metadata": {},
   "source": [
    "### <font color=blue> Importando bibliotecas"
   ]
  },
  {
   "cell_type": "code",
   "execution_count": null,
   "metadata": {},
   "outputs": [],
   "source": [
    "import pandas as pd\n",
    "import numpy as np\n",
    "import basedosdados as bd\n",
    "import matplotlib.pyplot as plt\n",
    "import plotly as py\n",
    "import plotly.express as px\n",
    "import plotly.graph_objects as go"
   ]
  },
  {
   "cell_type": "markdown",
   "metadata": {},
   "source": [
    "### <font color=blue> 1. Carregando a base de dados"
   ]
  },
  {
   "cell_type": "markdown",
   "metadata": {},
   "source": [
    "> Utilizei o pacote ``basedosdados`` para fazer a consulta SQL na BD+ (Big Query GCP)"
   ]
  },
  {
   "cell_type": "markdown",
   "metadata": {},
   "source": [
    "Usei a base Censo Agropecuário (br_ibge_censo_agropecuario) para realizar as análises e realizei um cruzamento com a base \n",
    "(br_bd_diretorios_brasil) para poder ter também os nomes dos municípios. Ambas as bases estão disponíveis no site da [Base dos Dados](https://basedosdados.org/dataset?order_by=score)\n"
   ]
  },
  {
   "cell_type": "markdown",
   "metadata": {},
   "source": [
    "> Query SQL, para download da base, em uma forma mais simples"
   ]
  },
  {
   "cell_type": "code",
   "execution_count": null,
   "metadata": {},
   "outputs": [],
   "source": [
    "base_censo1 = bd.read_sql(\n",
    "    '''\n",
    "    SELECT censo.*, municipio.nome\n",
    "        FROM basedosdados.br_ibge_censo_agropecuario.municipio AS censo \n",
    "        INNER JOIN basedosdados.br_bd_diretorios_brasil.municipio AS municipio\n",
    "            ON censo.id_municipio = municipio.id_municipio\n",
    "    ''',\n",
    "    billing_project_id='teste1-360117'\n",
    ")"
   ]
  },
  {
   "cell_type": "markdown",
   "metadata": {},
   "source": [
    "> Query SQL, para download da base, usando subqueries"
   ]
  },
  {
   "cell_type": "markdown",
   "metadata": {},
   "source": [
    "> \n",
    "base_censo2 = bd.read_sql(\n",
    "\n",
    "    '''\n",
    "    SELECT censo.*, nome_municipio.nome\n",
    "\n",
    "        FROM basedosdados.br_ibge_censo_agropecuario.municipio AS censo \n",
    "\n",
    "        INNER JOIN (SELECT municipio.id_municipio, municipio.nome\n",
    "\n",
    "                        FROM basedosdados.br_bd_diretorios_brasil.municipio AS municipio) AS nome_municipio\n",
    "\n",
    "            ON censo.id_municipio = nome_municipio.id_municipio\n",
    "    ''',\n",
    "\n",
    "    billing_project_id='teste1-360117'\n",
    "    \n",
    " )"
   ]
  },
  {
   "cell_type": "markdown",
   "metadata": {},
   "source": [
    "> Usando ``read_table``"
   ]
  },
  {
   "cell_type": "markdown",
   "metadata": {},
   "source": [
    "> \n",
    "#Teste usando read_table\n",
    "\n",
    "    df = bd.read_table(dataset_id='br_ibge_censo_agropecuario',\n",
    "\n",
    "    table_id='municipio',\n",
    "\n",
    "    billing_project_id=\"teste1-360117\")"
   ]
  },
  {
   "cell_type": "markdown",
   "metadata": {},
   "source": [
    "Como forma de teste fiz o download da base de dados ``br_ibge_censo_agropecuario`` acrescida da informação dos nomes dos municípios e utlizando ``read_sql`` com uma query mais simples e ele foi realizado em 30s. Já o download da mesma base de dados utilizando subqueries foi realizado em 37s. O download da base ``br_ibge_censo_agropecuario`` , sem a informação dos nomes dos municípios , utilizando ``read_table`` gastou 49.8s."
   ]
  },
  {
   "cell_type": "markdown",
   "metadata": {},
   "source": [
    "### <font color=blue> 2. Informações da base de dados"
   ]
  },
  {
   "cell_type": "code",
   "execution_count": null,
   "metadata": {},
   "outputs": [],
   "source": [
    "base_censo1"
   ]
  },
  {
   "cell_type": "code",
   "execution_count": null,
   "metadata": {},
   "outputs": [],
   "source": [
    "#Tipos presente na base\n",
    "base_censo1.dtypes"
   ]
  },
  {
   "cell_type": "code",
   "execution_count": null,
   "metadata": {},
   "outputs": [],
   "source": [
    "base_censo1.info()"
   ]
  },
  {
   "cell_type": "markdown",
   "metadata": {},
   "source": [
    "### <font color=blue> 3. Tratando a base de dados"
   ]
  },
  {
   "cell_type": "code",
   "execution_count": null,
   "metadata": {},
   "outputs": [],
   "source": [
    "#convertendo id_municipio em tipo numerico para poder realizar uma melhor verificação de valores vazios\n",
    "base_censo1[\"id_municipio\"] = pd.to_numeric(base_censo1[\"id_municipio\"], errors = \"coerce\")\n",
    "base_censo1"
   ]
  },
  {
   "cell_type": "code",
   "execution_count": null,
   "metadata": {},
   "outputs": [],
   "source": [
    "#Tipos presente na base após conversão da id_municipio\n",
    "base_censo1.dtypes"
   ]
  },
  {
   "cell_type": "code",
   "execution_count": null,
   "metadata": {},
   "outputs": [],
   "source": [
    "#Reordenando a base para uma melhor vizualização\n",
    "col_nome = base_censo1[\"nome\"]\n",
    "base_censo1_ordenada = base_censo1\n",
    "if 'nome_municipio' not in base_censo1_ordenada:\n",
    "    base_censo1_ordenada.insert(3,'nome_municipio',col_nome)\n",
    "    \n"
   ]
  },
  {
   "cell_type": "code",
   "execution_count": null,
   "metadata": {},
   "outputs": [],
   "source": [
    "#Base reordenada\n",
    "base_censo1_ordenada"
   ]
  },
  {
   "cell_type": "code",
   "execution_count": null,
   "metadata": {},
   "outputs": [],
   "source": [
    "#Verificando valores vazios para saber se posso eliminar alguma coluna\n",
    "contar_Valores_NaN = list(base_censo1_ordenada.isnull().sum().sort_values(ascending = False))\n",
    "\n",
    "contar_Valores_NaN \n",
    "\n"
   ]
  },
  {
   "cell_type": "code",
   "execution_count": null,
   "metadata": {},
   "outputs": [],
   "source": [
    "#Eliminando a coluna nome (Ja reordenei ela para outra posição) e eliminando a coluna (proporcao_despesa_salarios) ja que ela nao tem nenhum valor\n",
    "if (\"proporcao_despesa_salarios\" or \"nome\") in base_censo1_ordenada:\n",
    "        base_censo1_ordenada = base_censo1_ordenada.drop(columns=[\"proporcao_despesa_salarios\",\"nome\"])\n",
    "     \n",
    "base_censo1_ordenada\n"
   ]
  },
  {
   "cell_type": "markdown",
   "metadata": {},
   "source": [
    "#### Valores vazios"
   ]
  },
  {
   "cell_type": "markdown",
   "metadata": {},
   "source": [
    "        \n",
    "        Resolvi tratar os valores vazios preenchendo os campos com a mediana da coluna "
   ]
  },
  {
   "cell_type": "code",
   "execution_count": null,
   "metadata": {},
   "outputs": [],
   "source": [
    "#Função que preenche os campos vazios\n",
    "def preenche_campos_vazios (baseDados):\n",
    "    nome_colunas = list(baseDados.columns.values.tolist())\n",
    "    num_col = len(nome_colunas)\n",
    "    controle = 0\n",
    "    for i in nome_colunas:\n",
    "        contar_Valores_Vazios = baseDados[nome_colunas[controle]].isnull().sum()\n",
    "        #print (contar_Valores_Vazios)\n",
    "        if contar_Valores_Vazios > 0:\n",
    "            #print (contar_Valores_Vazios)\n",
    "            #print(i)\n",
    "            mediana = baseDados[nome_colunas[controle]].median()\n",
    "            mediana = int(mediana)\n",
    "            baseDados[nome_colunas[controle]] = baseDados[nome_colunas[controle]].fillna(mediana)\n",
    "        controle = controle + 1 \n",
    "    return baseDados"
   ]
  },
  {
   "cell_type": "code",
   "execution_count": null,
   "metadata": {},
   "outputs": [],
   "source": [
    "#Chamando a função que preenche os campos vazios\n",
    "preenche_campos_vazios(base_censo1_ordenada)"
   ]
  },
  {
   "cell_type": "markdown",
   "metadata": {},
   "source": [
    "### <font color=blue> 4. Preparação dos dados para visualização"
   ]
  },
  {
   "cell_type": "markdown",
   "metadata": {},
   "source": [
    "> ``Dataframes auxiliares``"
   ]
  },
  {
   "cell_type": "markdown",
   "metadata": {},
   "source": [
    "Criei esses dataframes auxiliares para agrupar os dados e facilitar a visualização"
   ]
  },
  {
   "cell_type": "markdown",
   "metadata": {},
   "source": [
    "### Bovinos"
   ]
  },
  {
   "cell_type": "code",
   "execution_count": null,
   "metadata": {},
   "outputs": [],
   "source": [
    "#Área utilizada por ano\n",
    "total_area_pastagem = base_censo1_ordenada.groupby(\"ano\").area_pastagem.sum()\n",
    "total_area_pastagem = pd.DataFrame(total_area_pastagem)\n",
    "total_area_pastagem = total_area_pastagem.reset_index()\n",
    "total_area_pastagem"
   ]
  },
  {
   "cell_type": "code",
   "execution_count": null,
   "metadata": {},
   "outputs": [],
   "source": [
    "#Cálculo da quantidade de bovinos por ano\n",
    "total_quantidade_bovinos = base_censo1_ordenada.groupby(\"ano\").quantidade_bovinos_total.sum()\n",
    "total_quantidade_bovinos = pd.DataFrame(total_quantidade_bovinos)\n",
    "total_quantidade_bovinos = total_quantidade_bovinos.reset_index()\n",
    "total_quantidade_bovinos"
   ]
  },
  {
   "cell_type": "code",
   "execution_count": null,
   "metadata": {},
   "outputs": [],
   "source": [
    "#Cálculo do valor da produção de bovinos por ano\n",
    "valor_producao_total_animal = base_censo1_ordenada.groupby(\"ano\").valor_producao_total_animal.sum()\n",
    "valor_producao_total_animal = pd.DataFrame(valor_producao_total_animal)\n",
    "valor_producao_total_animal = valor_producao_total_animal.reset_index()\n",
    "valor_producao_total_animal\n",
    "\n"
   ]
  },
  {
   "cell_type": "markdown",
   "metadata": {},
   "source": [
    "### Arroz"
   ]
  },
  {
   "cell_type": "code",
   "execution_count": null,
   "metadata": {},
   "outputs": [],
   "source": [
    "#Área utilizada por ano\n",
    "total_area_arroz = base_censo1_ordenada.groupby(\"ano\").area_arroz.sum()\n",
    "total_area_arroz = pd.DataFrame(total_area_arroz)\n",
    "total_area_arroz = total_area_arroz.reset_index()\n",
    "total_area_arroz\n"
   ]
  },
  {
   "cell_type": "code",
   "execution_count": null,
   "metadata": {},
   "outputs": [],
   "source": [
    "#Cálculo da produção de arroz, em toneladas, por ano\n",
    "total_producao_arroz = base_censo1_ordenada.groupby(\"ano\").producao_total_arroz.sum()\n",
    "total_producao_arroz = pd.DataFrame(total_producao_arroz)\n",
    "total_producao_arroz = total_producao_arroz.reset_index()\n",
    "total_producao_arroz"
   ]
  },
  {
   "cell_type": "code",
   "execution_count": null,
   "metadata": {},
   "outputs": [],
   "source": [
    "#Cálculo do valor da produção de arroz por ano\n",
    "valor_total_arroz = base_censo1_ordenada.groupby(\"ano\").valor_total_arroz.sum()\n",
    "valor_total_arroz = pd.DataFrame(valor_total_arroz)\n",
    "valor_total_arroz = valor_total_arroz.reset_index()\n",
    "valor_total_arroz"
   ]
  },
  {
   "cell_type": "markdown",
   "metadata": {},
   "source": [
    "### Soja"
   ]
  },
  {
   "cell_type": "code",
   "execution_count": null,
   "metadata": {},
   "outputs": [],
   "source": [
    "#Área utilizada no período\n",
    "total_area_soja= base_censo1_ordenada.groupby(\"ano\").area_soja.sum()\n",
    "total_area_soja = total_area_soja.reset_index()\n",
    "total_area_soja"
   ]
  },
  {
   "cell_type": "code",
   "execution_count": null,
   "metadata": {},
   "outputs": [],
   "source": [
    "#Cálculo da produção de soja, em toneladas, no período \n",
    "total_producao_soja = base_censo1_ordenada.groupby(\"ano\").producao_total_soja.sum()\n",
    "total_producao_soja = total_producao_soja.reset_index()\n",
    "total_producao_soja"
   ]
  },
  {
   "cell_type": "code",
   "execution_count": null,
   "metadata": {},
   "outputs": [],
   "source": [
    "#Calculo do valor da produção de soja no período\n",
    "valor_total_soja = base_censo1_ordenada.groupby(\"ano\").valor_total_soja.sum()\n",
    "valor_total_soja = valor_total_soja.reset_index()\n",
    "valor_total_soja"
   ]
  },
  {
   "cell_type": "code",
   "execution_count": null,
   "metadata": {},
   "outputs": [],
   "source": [
    "#Função que faz o merge entre os 3 dataframes auxiliares de cada produto\n",
    "def merge_df_aux(df1,df2,df3):\n",
    "    df_merge = pd.merge(df1, df2,how= 'outer' )\n",
    "    df_merge = pd.merge(df_merge, df3, how= 'outer')\n",
    "    return df_merge\n"
   ]
  },
  {
   "cell_type": "markdown",
   "metadata": {},
   "source": [
    "### <font color=blue> 5. Gerando Gráficos"
   ]
  },
  {
   "cell_type": "markdown",
   "metadata": {},
   "source": [
    "### Bovinos"
   ]
  },
  {
   "cell_type": "code",
   "execution_count": null,
   "metadata": {},
   "outputs": [],
   "source": [
    "# Preparando variaveis para criação do gráfico\n",
    "ano = list(merge_df_aux(total_area_pastagem,total_quantidade_bovinos,valor_producao_total_animal).ano)\n",
    "area_Bovinos  = list(merge_df_aux(total_area_pastagem,total_quantidade_bovinos,valor_producao_total_animal).area_pastagem)\n",
    "qtd_Bovinos = list(merge_df_aux(total_area_pastagem,total_quantidade_bovinos,valor_producao_total_animal).quantidade_bovinos_total)\n",
    "vlr_Bovinos = list(merge_df_aux(total_area_pastagem,total_quantidade_bovinos,valor_producao_total_animal).valor_producao_total_animal)"
   ]
  },
  {
   "cell_type": "code",
   "execution_count": null,
   "metadata": {},
   "outputs": [],
   "source": [
    "#Gerando o gráfico\n",
    "graf_Bovinos = go.Figure(data=[\n",
    "\n",
    "    go.Bar(name='Área (m2)', x=ano, y=area_Bovinos ),\n",
    "\n",
    "    go.Bar(name='Quantidade',x=ano, y=qtd_Bovinos ),\n",
    "\n",
    "    go.Bar(name='Valor (x100k)',x=ano, y= vlr_Bovinos ) \n",
    "])\n",
    "\n",
    "\n",
    "graf_Bovinos.update_layout(title='Bovinos', xaxis_title='Ano', yaxis_title='Bovinos (Área, Quantidade, Valor)',\n",
    "                            template = 'plotly_white', title_x=0.5, barmode='group',  autosize=False,\n",
    "    width=600, height=500,\n",
    "    margin=dict(\n",
    "        l=50,\n",
    "        r=50,\n",
    "        b=100,\n",
    "        t=100,\n",
    "        pad=4)\n",
    ")\n",
    "py.offline.plot(graf_Bovinos, filename = \"Grafico_Bovinos.html\")\n",
    "graf_Bovinos.show()"
   ]
  },
  {
   "cell_type": "markdown",
   "metadata": {},
   "source": [
    "### Arroz"
   ]
  },
  {
   "cell_type": "code",
   "execution_count": null,
   "metadata": {},
   "outputs": [],
   "source": [
    "# Preparando variaveis para criação do gráfico\n",
    "ano = list(merge_df_aux(total_area_arroz,total_producao_arroz,valor_total_arroz).ano)\n",
    "area_Arroz  = list(merge_df_aux(total_area_arroz,total_producao_arroz,valor_total_arroz).area_arroz)\n",
    "qtd_Arroz = list(merge_df_aux(total_area_arroz,total_producao_arroz,valor_total_arroz).producao_total_arroz)\n",
    "vlr_Arroz = list(merge_df_aux(total_area_arroz,total_producao_arroz,valor_total_arroz).valor_total_arroz)"
   ]
  },
  {
   "cell_type": "code",
   "execution_count": null,
   "metadata": {},
   "outputs": [],
   "source": [
    "#Gerando o gráfico\n",
    "graf_Arroz = go.Figure(data=[\n",
    "\n",
    "    go.Bar(name='Área (m2)', x=ano, y=area_Arroz ),\n",
    "\n",
    "    go.Bar(name='Quantidade (Toneladas)',x=ano, y=qtd_Arroz ),\n",
    "\n",
    "    go.Bar(name='Valor (x100k)',x=ano, y= vlr_Arroz ) \n",
    "])\n",
    "\n",
    "\n",
    "graf_Arroz.update_layout(title='Arroz', xaxis_title='Ano', yaxis_title='Arroz (Área, Quantidade, Valor)',\n",
    "                            template = 'plotly_white', title_x=0.4, barmode='group',  autosize=False,\n",
    "    width=600,\n",
    "    height=500,\n",
    "    margin=dict(\n",
    "        l=50,\n",
    "        r=50,\n",
    "        b=100,\n",
    "        t=100,\n",
    "        pad=4)\n",
    ")\n",
    "py.offline.plot(graf_Arroz, filename = \"Grafico_Arroz.html\")\n",
    "graf_Arroz.show()"
   ]
  },
  {
   "cell_type": "markdown",
   "metadata": {},
   "source": [
    "### Soja"
   ]
  },
  {
   "cell_type": "code",
   "execution_count": null,
   "metadata": {},
   "outputs": [],
   "source": [
    "ano = list(merge_df_aux(total_area_soja,total_producao_soja,valor_total_soja).ano)\n",
    "area_Soja  = list(merge_df_aux(total_area_soja,total_producao_soja,valor_total_soja).area_soja)\n",
    "qtd_Soja = list(merge_df_aux(total_area_soja,total_producao_soja,valor_total_soja).producao_total_soja)\n",
    "vlr_Soja = list(merge_df_aux(total_area_soja,total_producao_soja,valor_total_soja).valor_total_soja)"
   ]
  },
  {
   "cell_type": "code",
   "execution_count": null,
   "metadata": {},
   "outputs": [],
   "source": [
    "#Gerando o gráfico\n",
    "graf_Soja = go.Figure(data=[\n",
    "\n",
    "    go.Bar(name='Área (m2)', x=ano, y=area_Soja ),\n",
    "\n",
    "    go.Bar(name='Quantidade (Toneladas)',x=ano, y=qtd_Soja ),\n",
    "\n",
    "    go.Bar(name='Valor (x100k)',x=ano, y= vlr_Soja ) \n",
    "])\n",
    "\n",
    "\n",
    "graf_Soja.update_layout(title='Soja', xaxis_title='Ano', yaxis_title='Soja (Área, Quantidade, Valor)',\n",
    "                            template = 'plotly_white', title_x=0.4, barmode='group',  autosize=False,\n",
    "    width=600,\n",
    "    height=500,\n",
    "    margin=dict(\n",
    "        l=50,\n",
    "        r=50,\n",
    "        b=100,\n",
    "        t=100,\n",
    "        pad=4)\n",
    ")\n",
    "py.offline.plot(graf_Soja, filename = \"Grafico_Soja.html\")\n",
    "graf_Soja.show()"
   ]
  }
 ],
 "metadata": {
  "kernelspec": {
   "display_name": "Python 3",
   "language": "python",
   "name": "python3"
  },
  "language_info": {
   "codemirror_mode": {
    "name": "ipython",
    "version": 3
   },
   "file_extension": ".py",
   "mimetype": "text/x-python",
   "name": "python",
   "nbconvert_exporter": "python",
   "pygments_lexer": "ipython3",
   "version": "3.7.4"
  },
  "vscode": {
   "interpreter": {
    "hash": "c25c8803204bd7c80e0e347f30e6fc18f99fb00a7140e0077dc3fb869d30a638"
   }
  }
 },
 "nbformat": 4,
 "nbformat_minor": 2
}
